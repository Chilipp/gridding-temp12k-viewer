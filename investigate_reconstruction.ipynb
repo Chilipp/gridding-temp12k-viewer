{
 "cells": [
  {
   "cell_type": "markdown",
   "metadata": {},
   "source": [
    "# Interactive investigation of the Temperature12k reconstruction\n",
    "\n",
    "This notebook can be used to investigate the different latitudinal bands. Run it in your webbrowser using mybinder.org \n",
    "\n",
    "[![Binder](https://mybinder.org/badge_logo.svg)](https://mybinder.org/v2/gh/Chilipp/gridding-temp12k-viewer/master?urlpath=/apps/investigate_reconstruction.ipynb)\n",
    "\n",
    "Select the band you want to investigate by selecting the corresponding band from the dropdown menu.\n",
    "\n",
    "Don't get how to use this? Watch the little [tutorial video](#Video-Tutorial) and read the [docs](documentation.ipynb) for some guidance."
   ]
  },
  {
   "cell_type": "code",
   "execution_count": 1,
   "metadata": {},
   "outputs": [],
   "source": [
    "BAND = -45  # choose one of -75, -45, -15, 15, 45, 75"
   ]
  },
  {
   "cell_type": "code",
   "execution_count": 2,
   "metadata": {},
   "outputs": [],
   "source": [
    "%matplotlib widget\n",
    "\n",
    "import matplotlib.pyplot as plt\n",
    "import pandas as pd\n",
    "from IPython.display import display, Javascript\n",
    "import cartopy.crs as ccrs\n",
    "import cartopy.feature as cf\n",
    "from scatterplot_widget import ScatterplotWidget\n",
    "from ipywidgets.widgets import Dropdown, VBox"
   ]
  },
  {
   "cell_type": "code",
   "execution_count": 3,
   "metadata": {},
   "outputs": [],
   "source": [
    "pd.set_option('display.max_colwidth', None)"
   ]
  },
  {
   "cell_type": "code",
   "execution_count": 4,
   "metadata": {},
   "outputs": [],
   "source": [
    "def open_df(BAND):\n",
    "    df = pd.read_csv(f'data/annual-with-single-seas-{BAND}degN.tsv', '\\t')\n",
    "    df = df[['clon', 'clat', 'time', 'temperature', \n",
    "             'time_needed', 'nsamples', 'lon', 'lat', 'dataSetName',\n",
    "             'TSid', 'seasonality', 'datum', 'proxy', 'age_unc', 'temp_unc',\n",
    "             'worldclim', 'pi', 'lipdverse']]\n",
    "    df['lipdverse'] = '<a target=\"_blank\" href=\"' + df.lipdverse + '\">Link</a>'\n",
    "    return df"
   ]
  },
  {
   "cell_type": "code",
   "execution_count": 5,
   "metadata": {},
   "outputs": [],
   "source": [
    "combo_band = Dropdown(\n",
    "    options = [75, 45, 15, -15, -45, -75],\n",
    "    value=BAND,\n",
    "    description='Band [°N]:')\n",
    "\n",
    "def load_data(change):\n",
    "    if change['type'] == 'change' and change['name'] == 'value':\n",
    "        BAND = combo_band.value\n",
    "        df = open_df(BAND)\n",
    "        \n",
    "        map_ax.clear()\n",
    "        scatter_ax.clear()\n",
    "        format_fig(BAND)\n",
    "        points_lasso.disconnect()\n",
    "        points_lasso.init_df(df)\n",
    "        fig.canvas.draw_idle()\n",
    "\n",
    "combo_band.observe(load_data)"
   ]
  },
  {
   "cell_type": "code",
   "execution_count": 6,
   "metadata": {},
   "outputs": [],
   "source": [
    "def format_fig(BAND):\n",
    "    fig.suptitle(f'{BAND - 15} to {BAND + 15} °N')\n",
    "    map_ax.add_feature(cf.LAND, ec='0.7')\n",
    "    map_ax.set_extent([-179.9, 180, max(BAND - 25, -90), min(BAND + 25, 90)])"
   ]
  },
  {
   "cell_type": "code",
   "execution_count": 7,
   "metadata": {},
   "outputs": [
    {
     "data": {
      "application/vnd.jupyter.widget-view+json": {
       "model_id": "aa6fbb677f9b4a199a61062f8efe8f28",
       "version_major": 2,
       "version_minor": 0
      },
      "text/plain": [
       "VBox(children=(Dropdown(description='Band [°N]:', index=4, options=(75, 45, 15, -15, -45, -75), value=-45), Ca…"
      ]
     },
     "metadata": {},
     "output_type": "display_data"
    }
   ],
   "source": [
    "df = open_df(BAND)\n",
    "\n",
    "plt.ioff()\n",
    "\n",
    "fig = plt.figure()\n",
    "fig.canvas.header_visible = False\n",
    "scatter_ax = plt.subplot2grid((5, 1), (1, 0), 4, 1)\n",
    "map_ax = plt.subplot2grid((5, 1), (0, 0), 1, 1, projection=ccrs.PlateCarree())\n",
    "scatter_ax.set_xlabel('Time [years since 1950-01-01]')\n",
    "scatter_ax.set_ylabel('Temperature anomaly to 1850-1899 CE [°C]')\n",
    "\n",
    "format_fig(BAND)\n",
    "\n",
    "points_lasso = ScatterplotWidget(df, scatter_ax, map_ax)\n",
    "\n",
    "\n",
    "vbox = VBox(\n",
    "    [combo_band, fig.canvas, points_lasso.vbox, points_lasso.table_widget])\n",
    "vbox"
   ]
  }
 ],
 "metadata": {
  "kernelspec": {
   "display_name": "Python 3",
   "language": "python",
   "name": "python3"
  },
  "language_info": {
   "codemirror_mode": {
    "name": "ipython",
    "version": 3
   },
   "file_extension": ".py",
   "mimetype": "text/x-python",
   "name": "python",
   "nbconvert_exporter": "python",
   "pygments_lexer": "ipython3",
   "version": "3.7.6"
  }
 },
 "nbformat": 4,
 "nbformat_minor": 4
}
